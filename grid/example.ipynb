{
 "cells": [
  {
   "cell_type": "code",
   "execution_count": 1,
   "metadata": {
    "collapsed": true
   },
   "outputs": [],
   "source": [
    "%matplotlib inline\n",
    "import numpy as np\n",
    "import matplotlib.pyplot as plt\n",
    "from classify_grid import *\n",
    "import os, ebf\n",
    "from astropy.io import ascii\n",
    "import time\n",
    "#import mwdust"
   ]
  },
  {
   "cell_type": "code",
   "execution_count": 2,
   "metadata": {
    "collapsed": true
   },
   "outputs": [],
   "source": [
    "# load MIST models\n",
    "homedir=os.path.expanduser('~/')\n",
    "model=ebf.read(homedir+'science/models/MIST/mesa.ebf')"
   ]
  },
  {
   "cell_type": "code",
   "execution_count": 4,
   "metadata": {
    "collapsed": true
   },
   "outputs": [],
   "source": [
    "# prelims to manipulate some model variables (to be automated soon ...)\n",
    "model['rho']=np.log10(model['rho'])\n",
    "# next line turns off Dnu scaling relation corrections\n",
    "model['fdnu'][:]=1.\n",
    "model['avs']=np.zeros(len(model['teff']))\n",
    "model['dis']=np.zeros(len(model['teff']))"
   ]
  },
  {
   "cell_type": "code",
   "execution_count": 5,
   "metadata": {
    "collapsed": true
   },
   "outputs": [],
   "source": [
    "# next 2 lines allow to use a reddening model (needs galactic coordinates)\n",
    "#x.addcoords(338.3683920,-9.0227690)\n",
    "#dustmodel = mwdust.Combined15()"
   ]
  },
  {
   "cell_type": "code",
   "execution_count": 6,
   "metadata": {
    "collapsed": true
   },
   "outputs": [],
   "source": [
    "# initilize class with observables\n",
    "x=obsdata()"
   ]
  },
  {
   "cell_type": "code",
   "execution_count": 7,
   "metadata": {
    "collapsed": true
   },
   "outputs": [],
   "source": [
    "# add any combiantion of observables\n",
    "# Teff, logg, FeH + uncertainties\n",
    "x.addspec([5065.,-99.0,-0.1],[120.,0.0,0.2]) \n",
    "# numax & Dnu + uncertainties\n",
    "x.addseismo([231.,16.5],[10.,0.5])\n",
    "# photometry \n",
    "x.addjhk([6.025,5.578,5.496],[0.019,0.038,0.018])\n",
    "# parallax\n",
    "x.addplx(8.9536/1e3,0.7/1e3)"
   ]
  },
  {
   "cell_type": "code",
   "execution_count": 8,
   "metadata": {
    "collapsed": false
   },
   "outputs": [
    {
     "name": "stdout",
     "output_type": "stream",
     "text": [
      "teff 555904\n",
      "dnu 13897\n",
      "numax 8438\n",
      "feh 6373\n",
      "number of models used within non-phot obsconstraints: 6373\n",
      "number of models incl reddening: 828490\n",
      "number of models after phot constraints: 828198\n",
      "----\n",
      "teff 5035.37364818 81.120639045 81.120639045\n",
      "logg 3.27740127438 0.016 0.016\n",
      "feh -0.25 0.15 0.15\n",
      "rad 4.55448438278 0.184337950611 0.184337950611\n",
      "mass 1.42923048888 0.148268842169 0.148268842169\n",
      "rho 0.0151510278714 0.00071404594506 0.000748388148029\n",
      "lum 11.9209489039 1.45457575907 1.29639200986\n",
      "age 2.5 1.0 0.75\n",
      "avs -0.0275 0.29 0.19\n"
     ]
    }
   ],
   "source": [
    "# run classification\n",
    "paras=classify(input=x,model=model,dustmodel=0.,doplot=0)"
   ]
  },
  {
   "cell_type": "code",
   "execution_count": 10,
   "metadata": {
    "collapsed": false
   },
   "outputs": [
    {
     "data": {
      "text/plain": [
       "[<matplotlib.lines.Line2D at 0x10a857210>]"
      ]
     },
     "execution_count": 10,
     "metadata": {},
     "output_type": "execute_result"
    },
    {
     "data": {
      "image/png": "[encoded data removed]",
      "text/plain": [
       "<matplotlib.figure.Figure at 0x11008d410>"
      ]
     },
     "metadata": {},
     "output_type": "display_data"
    }
   ],
   "source": [
    "# plot teff posterior\n",
    "plt.plot(paras.teffpx,paras.teffpy)"
   ]
  },
  {
   "cell_type": "code",
   "execution_count": 14,
   "metadata": {
    "collapsed": false
   },
   "outputs": [
    {
     "name": "stdout",
     "output_type": "stream",
     "text": [
      "2.5 1.0 0.75\n"
     ]
    },
    {
     "data": {
      "text/plain": [
       "[<matplotlib.lines.Line2D at 0x132558bd0>]"
      ]
     },
     "execution_count": 14,
     "metadata": {},
     "output_type": "execute_result"
    },
    {
     "data": {
      "image/png": "[encoded data removed]",
      "text/plain": [
       "<matplotlib.figure.Figure at 0x132532150>"
      ]
     },
     "metadata": {},
     "output_type": "display_data"
    }
   ],
   "source": [
    "# print age median +/- 1 sigma, plot posterior\n",
    "print paras.age,paras.ageep,paras.ageem\n",
    "plt.plot(paras.agepx,paras.agepy)"
   ]
  },
  {
   "cell_type": "code",
   "execution_count": 16,
   "metadata": {
    "collapsed": false
   },
   "outputs": [
    {
     "name": "stdout",
     "output_type": "stream",
     "text": [
      "1.42923048888 0.148268842169 0.148268842169\n"
     ]
    },
    {
     "data": {
      "text/plain": [
       "[<matplotlib.lines.Line2D at 0x1327a2610>]"
      ]
     },
     "execution_count": 16,
     "metadata": {},
     "output_type": "execute_result"
    },
    {
     "data": {
      "image/png": "[encoded data removed]",
      "text/plain": [
       "<matplotlib.figure.Figure at 0x10a83a750>"
      ]
     },
     "metadata": {},
     "output_type": "display_data"
    }
   ],
   "source": [
    "# print mass median +/- 1 sigma, plot posterior\n",
    "print paras.mass,paras.massep,paras.massem\n",
    "plt.plot(paras.masspx,paras.masspy)"
   ]
  },
  {
   "cell_type": "code",
   "execution_count": null,
   "metadata": {
    "collapsed": true
   },
   "outputs": [],
   "source": []
  }
 ],
 "metadata": {
  "kernelspec": {
   "display_name": "Python 2",
   "language": "python",
   "name": "python2"
  },
  "language_info": {
   "codemirror_mode": {
    "name": "ipython",
    "version": 2
   },
   "file_extension": ".py",
   "mimetype": "text/x-python",
   "name": "python",
   "nbconvert_exporter": "python",
   "pygments_lexer": "ipython2",
   "version": "2.7.6"
  }
 },
 "nbformat": 4,
 "nbformat_minor": 0
}
